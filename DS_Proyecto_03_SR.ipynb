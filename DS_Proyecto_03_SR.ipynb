{
 "cells": [
  {
   "cell_type": "markdown",
   "metadata": {
    "id": "gzJLet17WTzh"
   },
   "source": [
    "# Proyecto 03 - Sistemas de Recomendación\n",
    "\n",
    "## Dataset: STEAM\n",
    "\n",
    "**Recuerda descargar el dataset de [aquí](https://github.com/kang205/SASRec). Son dos archivos, uno de calificaciones y otro de información sobre los juegos.**\n",
    "\n",
    "En este notebook te dejamos unas celdas para que puedas comenzar a trabajar con este dataset. Sin embargo, **deberás** modificarlas para hacer un mejor manejo de datos. Algunas cosas a las que deberás prestar atención (tal vez no a todas):\n",
    "1. Tipos de datos: elige tipos de datos apropiados para cada columna.\n",
    "2. Descartar columnas poco informativas.\n",
    "3. Guardar en memoria datasets preprocesados para no tener que repetir código que tarde en correr.\n",
    "\n",
    "### Exploración de datos\n",
    "\n",
    "Dedícale un buen tiempo a hacer un Análisis Exploratorio de Datos. Elige preguntas que creas que puedas responder con este dataset. Por ejemplo, ¿cuáles son los juegos más populares?¿Y los menos populares?\n",
    "\n",
    "### Filtro Colaborativo\n",
    "\n",
    "Deberás implementar un sistema de recomendación colaborativo para este dataset. Ten en cuenta:\n",
    "\n",
    "1. Haz todas las transformaciones de datos que consideres necesarias. Justifica.\n",
    "1. Evalúa de forma apropiada sus resultados. Justifica la métrica elegida.\n",
    "1. Elige un modelo benchmark y compara tus resultados con este modelo.\n",
    "1. Optimiza los hiperparámetros de tu modelo.\n",
    "\n",
    "Puedes implementar un filtro colaborativo a partir de la similitud coseno o índice de Jaccard. ¿Puedes utilizar los métodos de la librería Surprise? Si no es así, busca implementaciones (por ejemplo, nuevas librerías) que sean apropiadas.\n",
    "\n",
    "Para comenzar a trabajar, puedes asumir que cada entrada es un enlace entre una persona usuaria y un item, **independientemente** de si la crítica es buena o mala. \n",
    "\n",
    "### Para pensar, investigar y, opcionalmente, implementar\n",
    "1. ¿Cómo harías para ponerle un valor a la calificación?\n",
    "1. ¿Cómo harías para agregar contenido? Por ejemplo, cuentas con el género, precio, fecha de lanzamiento y más información de los juegos.\n",
    "1. ¿Hay algo que te gustaría investigar o probar?\n",
    "\n",
    "### **¡Tómate tiempo para investigar y leer mucho!**"
   ]
  },
  {
   "cell_type": "code",
   "execution_count": 1,
   "metadata": {
    "id": "lWZhtUxEWTzj"
   },
   "outputs": [],
   "source": [
    "import gzip\n",
    "import pandas as pd\n",
    "import numpy as np\n",
    "import matplotlib.pyplot as plt\n",
    "import seaborn as sns\n",
    "sns.set()\n",
    "\n",
    "def parse(path):\n",
    "    g = gzip.open(path, 'r')\n",
    "    for l in g:\n",
    "        yield eval(l)"
   ]
  },
  {
   "cell_type": "markdown",
   "metadata": {
    "id": "BmEM25k4WTzw"
   },
   "source": [
    "**Reviews**"
   ]
  },
  {
   "cell_type": "code",
   "execution_count": 2,
   "metadata": {
    "colab": {
     "base_uri": "https://localhost:8080/",
     "height": 375
    },
    "id": "abAXItn1WTz0",
    "outputId": "de5920e0-4cb1-476f-f6f9-efd8b540bb60"
   },
   "outputs": [],
   "source": [
    "contador = 0\n",
    "data_reviews = []\n",
    "# Vamos a guardar una de cada 10 reviews para no llenar la memoria RAM. Si pones n = 3, \n",
    "# abrira uno de cada tres, y asi.\n",
    "n = 10\n",
    "for l in parse('steam_reviews.json.gz'):\n",
    "    if contador%n == 0:\n",
    "        data_reviews.append(l)\n",
    "    else:\n",
    "        pass\n",
    "    contador += 1\n"
   ]
  },
  {
   "cell_type": "code",
   "execution_count": 3,
   "metadata": {
    "id": "7GovAZQBWTz8"
   },
   "outputs": [],
   "source": [
    "data_reviews = pd.DataFrame(data_reviews)"
   ]
  },
  {
   "cell_type": "code",
   "execution_count": 4,
   "metadata": {
    "id": "j24F0ZaYWT0E",
    "scrolled": false
   },
   "outputs": [
    {
     "data": {
      "text/html": [
       "<div>\n",
       "<style scoped>\n",
       "    .dataframe tbody tr th:only-of-type {\n",
       "        vertical-align: middle;\n",
       "    }\n",
       "\n",
       "    .dataframe tbody tr th {\n",
       "        vertical-align: top;\n",
       "    }\n",
       "\n",
       "    .dataframe thead th {\n",
       "        text-align: right;\n",
       "    }\n",
       "</style>\n",
       "<table border=\"1\" class=\"dataframe\">\n",
       "  <thead>\n",
       "    <tr style=\"text-align: right;\">\n",
       "      <th></th>\n",
       "      <th>username</th>\n",
       "      <th>hours</th>\n",
       "      <th>products</th>\n",
       "      <th>product_id</th>\n",
       "      <th>page_order</th>\n",
       "      <th>date</th>\n",
       "      <th>text</th>\n",
       "      <th>early_access</th>\n",
       "      <th>page</th>\n",
       "      <th>user_id</th>\n",
       "      <th>compensation</th>\n",
       "      <th>found_funny</th>\n",
       "    </tr>\n",
       "  </thead>\n",
       "  <tbody>\n",
       "    <tr>\n",
       "      <th>0</th>\n",
       "      <td>Chaos Syren</td>\n",
       "      <td>0.1</td>\n",
       "      <td>41.0</td>\n",
       "      <td>725280</td>\n",
       "      <td>0</td>\n",
       "      <td>2017-12-17</td>\n",
       "      <td>This would not be acceptable as an entertainme...</td>\n",
       "      <td>False</td>\n",
       "      <td>1</td>\n",
       "      <td>NaN</td>\n",
       "      <td>NaN</td>\n",
       "      <td>NaN</td>\n",
       "    </tr>\n",
       "    <tr>\n",
       "      <th>1</th>\n",
       "      <td>Ariman1</td>\n",
       "      <td>13.2</td>\n",
       "      <td>1386.0</td>\n",
       "      <td>328100</td>\n",
       "      <td>2</td>\n",
       "      <td>2017-08-02</td>\n",
       "      <td>Addictive RPG ! Works fine on linux though it ...</td>\n",
       "      <td>False</td>\n",
       "      <td>1</td>\n",
       "      <td>NaN</td>\n",
       "      <td>NaN</td>\n",
       "      <td>NaN</td>\n",
       "    </tr>\n",
       "    <tr>\n",
       "      <th>2</th>\n",
       "      <td>freakfantom</td>\n",
       "      <td>0.1</td>\n",
       "      <td>1706.0</td>\n",
       "      <td>725280</td>\n",
       "      <td>5</td>\n",
       "      <td>2017-11-12</td>\n",
       "      <td>Прикольная стрелялка. Взял дешево на распродаже.</td>\n",
       "      <td>False</td>\n",
       "      <td>1</td>\n",
       "      <td>NaN</td>\n",
       "      <td>NaN</td>\n",
       "      <td>NaN</td>\n",
       "    </tr>\n",
       "    <tr>\n",
       "      <th>3</th>\n",
       "      <td>The_Cpt_FROGGY</td>\n",
       "      <td>7.8</td>\n",
       "      <td>2217.0</td>\n",
       "      <td>631920</td>\n",
       "      <td>0</td>\n",
       "      <td>2017-12-11</td>\n",
       "      <td>Somewhere on Zibylon:\\n~~~~~~~~~~~~~~~~~~\\nZib...</td>\n",
       "      <td>False</td>\n",
       "      <td>1</td>\n",
       "      <td>76561198003030375</td>\n",
       "      <td>Product received for free</td>\n",
       "      <td>NaN</td>\n",
       "    </tr>\n",
       "    <tr>\n",
       "      <th>4</th>\n",
       "      <td>the_maker988</td>\n",
       "      <td>8.2</td>\n",
       "      <td>18.0</td>\n",
       "      <td>35140</td>\n",
       "      <td>7</td>\n",
       "      <td>2018-01-02</td>\n",
       "      <td>This game was way to linear for me, and compar...</td>\n",
       "      <td>False</td>\n",
       "      <td>1</td>\n",
       "      <td>76561198353396844</td>\n",
       "      <td>NaN</td>\n",
       "      <td>NaN</td>\n",
       "    </tr>\n",
       "  </tbody>\n",
       "</table>\n",
       "</div>"
      ],
      "text/plain": [
       "         username  hours  products product_id  page_order        date  \\\n",
       "0     Chaos Syren    0.1      41.0     725280           0  2017-12-17   \n",
       "1         Ariman1   13.2    1386.0     328100           2  2017-08-02   \n",
       "2     freakfantom    0.1    1706.0     725280           5  2017-11-12   \n",
       "3  The_Cpt_FROGGY    7.8    2217.0     631920           0  2017-12-11   \n",
       "4    the_maker988    8.2      18.0      35140           7  2018-01-02   \n",
       "\n",
       "                                                text  early_access  page  \\\n",
       "0  This would not be acceptable as an entertainme...         False     1   \n",
       "1  Addictive RPG ! Works fine on linux though it ...         False     1   \n",
       "2   Прикольная стрелялка. Взял дешево на распродаже.         False     1   \n",
       "3  Somewhere on Zibylon:\\n~~~~~~~~~~~~~~~~~~\\nZib...         False     1   \n",
       "4  This game was way to linear for me, and compar...         False     1   \n",
       "\n",
       "             user_id               compensation  found_funny  \n",
       "0                NaN                        NaN          NaN  \n",
       "1                NaN                        NaN          NaN  \n",
       "2                NaN                        NaN          NaN  \n",
       "3  76561198003030375  Product received for free          NaN  \n",
       "4  76561198353396844                        NaN          NaN  "
      ]
     },
     "execution_count": 4,
     "metadata": {},
     "output_type": "execute_result"
    }
   ],
   "source": [
    "data_reviews.head()"
   ]
  },
  {
   "cell_type": "code",
   "execution_count": 5,
   "metadata": {},
   "outputs": [
    {
     "data": {
      "text/plain": [
       "(779307, 12)"
      ]
     },
     "execution_count": 5,
     "metadata": {},
     "output_type": "execute_result"
    }
   ],
   "source": [
    "data_reviews.shape"
   ]
  },
  {
   "cell_type": "code",
   "execution_count": 6,
   "metadata": {
    "id": "8F-EVRZ4WT0L"
   },
   "outputs": [
    {
     "data": {
      "text/plain": [
       "username             0\n",
       "hours             2637\n",
       "products          1566\n",
       "product_id           0\n",
       "page_order           0\n",
       "date                 0\n",
       "text                 0\n",
       "early_access         0\n",
       "page                 0\n",
       "user_id         461967\n",
       "compensation    764719\n",
       "found_funny     659143\n",
       "dtype: int64"
      ]
     },
     "execution_count": 6,
     "metadata": {},
     "output_type": "execute_result"
    }
   ],
   "source": [
    "data_reviews.isna().sum()"
   ]
  },
  {
   "cell_type": "markdown",
   "metadata": {
    "id": "04ed3teRWT0T"
   },
   "source": [
    "**Games**"
   ]
  },
  {
   "cell_type": "code",
   "execution_count": 7,
   "metadata": {
    "id": "8wRb24Y5WT0U"
   },
   "outputs": [],
   "source": [
    "data_games = []\n",
    "for l in parse('steam_games.json.gz'):\n",
    "    data_games.append(l)\n",
    "data_games = pd.DataFrame(data_games)"
   ]
  },
  {
   "cell_type": "code",
   "execution_count": 8,
   "metadata": {
    "colab": {
     "base_uri": "https://localhost:8080/",
     "height": 615
    },
    "id": "sVR0Cs6SWT0b",
    "outputId": "1dcc986e-12f4-498a-8e28-6e1303a28e33",
    "scrolled": false
   },
   "outputs": [
    {
     "data": {
      "text/html": [
       "<div>\n",
       "<style scoped>\n",
       "    .dataframe tbody tr th:only-of-type {\n",
       "        vertical-align: middle;\n",
       "    }\n",
       "\n",
       "    .dataframe tbody tr th {\n",
       "        vertical-align: top;\n",
       "    }\n",
       "\n",
       "    .dataframe thead th {\n",
       "        text-align: right;\n",
       "    }\n",
       "</style>\n",
       "<table border=\"1\" class=\"dataframe\">\n",
       "  <thead>\n",
       "    <tr style=\"text-align: right;\">\n",
       "      <th></th>\n",
       "      <th>publisher</th>\n",
       "      <th>genres</th>\n",
       "      <th>app_name</th>\n",
       "      <th>title</th>\n",
       "      <th>url</th>\n",
       "      <th>release_date</th>\n",
       "      <th>tags</th>\n",
       "      <th>discount_price</th>\n",
       "      <th>reviews_url</th>\n",
       "      <th>specs</th>\n",
       "      <th>price</th>\n",
       "      <th>early_access</th>\n",
       "      <th>id</th>\n",
       "      <th>developer</th>\n",
       "      <th>sentiment</th>\n",
       "      <th>metascore</th>\n",
       "    </tr>\n",
       "  </thead>\n",
       "  <tbody>\n",
       "    <tr>\n",
       "      <th>0</th>\n",
       "      <td>Kotoshiro</td>\n",
       "      <td>[Action, Casual, Indie, Simulation, Strategy]</td>\n",
       "      <td>Lost Summoner Kitty</td>\n",
       "      <td>Lost Summoner Kitty</td>\n",
       "      <td>http://store.steampowered.com/app/761140/Lost_...</td>\n",
       "      <td>2018-01-04</td>\n",
       "      <td>[Strategy, Action, Indie, Casual, Simulation]</td>\n",
       "      <td>4.49</td>\n",
       "      <td>http://steamcommunity.com/app/761140/reviews/?...</td>\n",
       "      <td>[Single-player]</td>\n",
       "      <td>4.99</td>\n",
       "      <td>False</td>\n",
       "      <td>761140</td>\n",
       "      <td>Kotoshiro</td>\n",
       "      <td>NaN</td>\n",
       "      <td>NaN</td>\n",
       "    </tr>\n",
       "    <tr>\n",
       "      <th>1</th>\n",
       "      <td>Making Fun, Inc.</td>\n",
       "      <td>[Free to Play, Indie, RPG, Strategy]</td>\n",
       "      <td>Ironbound</td>\n",
       "      <td>Ironbound</td>\n",
       "      <td>http://store.steampowered.com/app/643980/Ironb...</td>\n",
       "      <td>2018-01-04</td>\n",
       "      <td>[Free to Play, Strategy, Indie, RPG, Card Game...</td>\n",
       "      <td>NaN</td>\n",
       "      <td>http://steamcommunity.com/app/643980/reviews/?...</td>\n",
       "      <td>[Single-player, Multi-player, Online Multi-Pla...</td>\n",
       "      <td>Free To Play</td>\n",
       "      <td>False</td>\n",
       "      <td>643980</td>\n",
       "      <td>Secret Level SRL</td>\n",
       "      <td>Mostly Positive</td>\n",
       "      <td>NaN</td>\n",
       "    </tr>\n",
       "    <tr>\n",
       "      <th>2</th>\n",
       "      <td>Poolians.com</td>\n",
       "      <td>[Casual, Free to Play, Indie, Simulation, Sports]</td>\n",
       "      <td>Real Pool 3D - Poolians</td>\n",
       "      <td>Real Pool 3D - Poolians</td>\n",
       "      <td>http://store.steampowered.com/app/670290/Real_...</td>\n",
       "      <td>2017-07-24</td>\n",
       "      <td>[Free to Play, Simulation, Sports, Casual, Ind...</td>\n",
       "      <td>NaN</td>\n",
       "      <td>http://steamcommunity.com/app/670290/reviews/?...</td>\n",
       "      <td>[Single-player, Multi-player, Online Multi-Pla...</td>\n",
       "      <td>Free to Play</td>\n",
       "      <td>False</td>\n",
       "      <td>670290</td>\n",
       "      <td>Poolians.com</td>\n",
       "      <td>Mostly Positive</td>\n",
       "      <td>NaN</td>\n",
       "    </tr>\n",
       "    <tr>\n",
       "      <th>3</th>\n",
       "      <td>彼岸领域</td>\n",
       "      <td>[Action, Adventure, Casual]</td>\n",
       "      <td>弹炸人2222</td>\n",
       "      <td>弹炸人2222</td>\n",
       "      <td>http://store.steampowered.com/app/767400/2222/</td>\n",
       "      <td>2017-12-07</td>\n",
       "      <td>[Action, Adventure, Casual]</td>\n",
       "      <td>0.83</td>\n",
       "      <td>http://steamcommunity.com/app/767400/reviews/?...</td>\n",
       "      <td>[Single-player]</td>\n",
       "      <td>0.99</td>\n",
       "      <td>False</td>\n",
       "      <td>767400</td>\n",
       "      <td>彼岸领域</td>\n",
       "      <td>NaN</td>\n",
       "      <td>NaN</td>\n",
       "    </tr>\n",
       "    <tr>\n",
       "      <th>4</th>\n",
       "      <td>NaN</td>\n",
       "      <td>NaN</td>\n",
       "      <td>Log Challenge</td>\n",
       "      <td>NaN</td>\n",
       "      <td>http://store.steampowered.com/app/773570/Log_C...</td>\n",
       "      <td>NaN</td>\n",
       "      <td>[Action, Indie, Casual, Sports]</td>\n",
       "      <td>1.79</td>\n",
       "      <td>http://steamcommunity.com/app/773570/reviews/?...</td>\n",
       "      <td>[Single-player, Full controller support, HTC V...</td>\n",
       "      <td>2.99</td>\n",
       "      <td>False</td>\n",
       "      <td>773570</td>\n",
       "      <td>NaN</td>\n",
       "      <td>NaN</td>\n",
       "      <td>NaN</td>\n",
       "    </tr>\n",
       "  </tbody>\n",
       "</table>\n",
       "</div>"
      ],
      "text/plain": [
       "          publisher                                             genres  \\\n",
       "0         Kotoshiro      [Action, Casual, Indie, Simulation, Strategy]   \n",
       "1  Making Fun, Inc.               [Free to Play, Indie, RPG, Strategy]   \n",
       "2      Poolians.com  [Casual, Free to Play, Indie, Simulation, Sports]   \n",
       "3              彼岸领域                        [Action, Adventure, Casual]   \n",
       "4               NaN                                                NaN   \n",
       "\n",
       "                  app_name                    title  \\\n",
       "0      Lost Summoner Kitty      Lost Summoner Kitty   \n",
       "1                Ironbound                Ironbound   \n",
       "2  Real Pool 3D - Poolians  Real Pool 3D - Poolians   \n",
       "3                  弹炸人2222                  弹炸人2222   \n",
       "4            Log Challenge                      NaN   \n",
       "\n",
       "                                                 url release_date  \\\n",
       "0  http://store.steampowered.com/app/761140/Lost_...   2018-01-04   \n",
       "1  http://store.steampowered.com/app/643980/Ironb...   2018-01-04   \n",
       "2  http://store.steampowered.com/app/670290/Real_...   2017-07-24   \n",
       "3     http://store.steampowered.com/app/767400/2222/   2017-12-07   \n",
       "4  http://store.steampowered.com/app/773570/Log_C...          NaN   \n",
       "\n",
       "                                                tags  discount_price  \\\n",
       "0      [Strategy, Action, Indie, Casual, Simulation]            4.49   \n",
       "1  [Free to Play, Strategy, Indie, RPG, Card Game...             NaN   \n",
       "2  [Free to Play, Simulation, Sports, Casual, Ind...             NaN   \n",
       "3                        [Action, Adventure, Casual]            0.83   \n",
       "4                    [Action, Indie, Casual, Sports]            1.79   \n",
       "\n",
       "                                         reviews_url  \\\n",
       "0  http://steamcommunity.com/app/761140/reviews/?...   \n",
       "1  http://steamcommunity.com/app/643980/reviews/?...   \n",
       "2  http://steamcommunity.com/app/670290/reviews/?...   \n",
       "3  http://steamcommunity.com/app/767400/reviews/?...   \n",
       "4  http://steamcommunity.com/app/773570/reviews/?...   \n",
       "\n",
       "                                               specs         price  \\\n",
       "0                                    [Single-player]          4.99   \n",
       "1  [Single-player, Multi-player, Online Multi-Pla...  Free To Play   \n",
       "2  [Single-player, Multi-player, Online Multi-Pla...  Free to Play   \n",
       "3                                    [Single-player]          0.99   \n",
       "4  [Single-player, Full controller support, HTC V...          2.99   \n",
       "\n",
       "   early_access      id         developer        sentiment metascore  \n",
       "0         False  761140         Kotoshiro              NaN       NaN  \n",
       "1         False  643980  Secret Level SRL  Mostly Positive       NaN  \n",
       "2         False  670290      Poolians.com  Mostly Positive       NaN  \n",
       "3         False  767400              彼岸领域              NaN       NaN  \n",
       "4         False  773570               NaN              NaN       NaN  "
      ]
     },
     "execution_count": 8,
     "metadata": {},
     "output_type": "execute_result"
    }
   ],
   "source": [
    "data_games.head()"
   ]
  },
  {
   "cell_type": "code",
   "execution_count": 9,
   "metadata": {
    "scrolled": true
   },
   "outputs": [
    {
     "data": {
      "text/plain": [
       "(32135, 16)"
      ]
     },
     "execution_count": 9,
     "metadata": {},
     "output_type": "execute_result"
    }
   ],
   "source": [
    "data_games.shape"
   ]
  },
  {
   "cell_type": "markdown",
   "metadata": {},
   "source": [
    "#### Cantidad de usuarios"
   ]
  },
  {
   "cell_type": "code",
   "execution_count": 10,
   "metadata": {},
   "outputs": [
    {
     "name": "stdout",
     "output_type": "stream",
     "text": [
      "540341\n"
     ]
    }
   ],
   "source": [
    "print(len(data_reviews['username'].unique()))"
   ]
  },
  {
   "cell_type": "markdown",
   "metadata": {},
   "source": [
    "#### Cantidad de juegos "
   ]
  },
  {
   "cell_type": "code",
   "execution_count": 11,
   "metadata": {},
   "outputs": [
    {
     "name": "stdout",
     "output_type": "stream",
     "text": [
      "12665\n"
     ]
    }
   ],
   "source": [
    "print(len(data_reviews['product_id'].unique()))"
   ]
  },
  {
   "cell_type": "markdown",
   "metadata": {},
   "source": [
    "#### Cuál es el juego que se jugó durante más horas?"
   ]
  },
  {
   "cell_type": "code",
   "execution_count": 12,
   "metadata": {
    "scrolled": false
   },
   "outputs": [
    {
     "data": {
      "text/html": [
       "<div>\n",
       "<style scoped>\n",
       "    .dataframe tbody tr th:only-of-type {\n",
       "        vertical-align: middle;\n",
       "    }\n",
       "\n",
       "    .dataframe tbody tr th {\n",
       "        vertical-align: top;\n",
       "    }\n",
       "\n",
       "    .dataframe thead th {\n",
       "        text-align: right;\n",
       "    }\n",
       "</style>\n",
       "<table border=\"1\" class=\"dataframe\">\n",
       "  <thead>\n",
       "    <tr style=\"text-align: right;\">\n",
       "      <th></th>\n",
       "      <th>publisher</th>\n",
       "      <th>genres</th>\n",
       "      <th>app_name</th>\n",
       "      <th>title</th>\n",
       "      <th>url</th>\n",
       "      <th>release_date</th>\n",
       "      <th>tags</th>\n",
       "      <th>discount_price</th>\n",
       "      <th>reviews_url</th>\n",
       "      <th>specs</th>\n",
       "      <th>price</th>\n",
       "      <th>early_access</th>\n",
       "      <th>id</th>\n",
       "      <th>developer</th>\n",
       "      <th>sentiment</th>\n",
       "      <th>metascore</th>\n",
       "    </tr>\n",
       "  </thead>\n",
       "  <tbody>\n",
       "    <tr>\n",
       "      <th>28926</th>\n",
       "      <td>Trion Worlds, Inc.</td>\n",
       "      <td>[Action, Free to Play, Massively Multiplayer, ...</td>\n",
       "      <td>Defiance</td>\n",
       "      <td>Defiance</td>\n",
       "      <td>http://store.steampowered.com/app/224600/Defia...</td>\n",
       "      <td>2014-06-04</td>\n",
       "      <td>[Free to Play, Action, Open World, Massively M...</td>\n",
       "      <td>NaN</td>\n",
       "      <td>http://steamcommunity.com/app/224600/reviews/?...</td>\n",
       "      <td>[Multi-player, MMO, Co-op, Steam Trading Cards...</td>\n",
       "      <td>Free to Play</td>\n",
       "      <td>False</td>\n",
       "      <td>224600</td>\n",
       "      <td>Trion Worlds, Inc.</td>\n",
       "      <td>Mostly Positive</td>\n",
       "      <td>64</td>\n",
       "    </tr>\n",
       "  </tbody>\n",
       "</table>\n",
       "</div>"
      ],
      "text/plain": [
       "                publisher                                             genres  \\\n",
       "28926  Trion Worlds, Inc.  [Action, Free to Play, Massively Multiplayer, ...   \n",
       "\n",
       "       app_name     title                                                url  \\\n",
       "28926  Defiance  Defiance  http://store.steampowered.com/app/224600/Defia...   \n",
       "\n",
       "      release_date                                               tags  \\\n",
       "28926   2014-06-04  [Free to Play, Action, Open World, Massively M...   \n",
       "\n",
       "       discount_price                                        reviews_url  \\\n",
       "28926             NaN  http://steamcommunity.com/app/224600/reviews/?...   \n",
       "\n",
       "                                                   specs         price  \\\n",
       "28926  [Multi-player, MMO, Co-op, Steam Trading Cards...  Free to Play   \n",
       "\n",
       "       early_access      id           developer        sentiment metascore  \n",
       "28926         False  224600  Trion Worlds, Inc.  Mostly Positive        64  "
      ]
     },
     "execution_count": 12,
     "metadata": {},
     "output_type": "execute_result"
    }
   ],
   "source": [
    "max_hs = data_reviews['hours'].max()\n",
    "product_id_max_hs = data_reviews['product_id'][data_reviews['hours'] == max_hs]\n",
    "data_games[data_games['id'] == str(int(product_id_max_hs))]"
   ]
  },
  {
   "cell_type": "markdown",
   "metadata": {},
   "source": [
    "#### Cuáles son los juegos que se jugaron durante menos horas?"
   ]
  },
  {
   "cell_type": "code",
   "execution_count": 13,
   "metadata": {},
   "outputs": [
    {
     "data": {
      "text/html": [
       "<div>\n",
       "<style scoped>\n",
       "    .dataframe tbody tr th:only-of-type {\n",
       "        vertical-align: middle;\n",
       "    }\n",
       "\n",
       "    .dataframe tbody tr th {\n",
       "        vertical-align: top;\n",
       "    }\n",
       "\n",
       "    .dataframe thead th {\n",
       "        text-align: right;\n",
       "    }\n",
       "</style>\n",
       "<table border=\"1\" class=\"dataframe\">\n",
       "  <thead>\n",
       "    <tr style=\"text-align: right;\">\n",
       "      <th></th>\n",
       "      <th>publisher</th>\n",
       "      <th>genres</th>\n",
       "      <th>app_name</th>\n",
       "      <th>title</th>\n",
       "      <th>url</th>\n",
       "      <th>release_date</th>\n",
       "      <th>tags</th>\n",
       "      <th>discount_price</th>\n",
       "      <th>reviews_url</th>\n",
       "      <th>specs</th>\n",
       "      <th>price</th>\n",
       "      <th>early_access</th>\n",
       "      <th>id</th>\n",
       "      <th>developer</th>\n",
       "      <th>sentiment</th>\n",
       "      <th>metascore</th>\n",
       "    </tr>\n",
       "  </thead>\n",
       "  <tbody>\n",
       "    <tr>\n",
       "      <th>720</th>\n",
       "      <td>Three Rings</td>\n",
       "      <td>[Adventure, Casual, Free to Play, Massively Mu...</td>\n",
       "      <td>Puzzle Pirates</td>\n",
       "      <td>Puzzle Pirates</td>\n",
       "      <td>http://store.steampowered.com/app/99910/Puzzle...</td>\n",
       "      <td>2011-08-31</td>\n",
       "      <td>[Free to Play, Massively Multiplayer, Puzzle, ...</td>\n",
       "      <td>NaN</td>\n",
       "      <td>http://steamcommunity.com/app/99910/reviews/?b...</td>\n",
       "      <td>[Single-player, Multi-player, MMO, Co-op, Stea...</td>\n",
       "      <td>Free to Play</td>\n",
       "      <td>False</td>\n",
       "      <td>99910</td>\n",
       "      <td>Three Rings</td>\n",
       "      <td>Very Positive</td>\n",
       "      <td>NaN</td>\n",
       "    </tr>\n",
       "    <tr>\n",
       "      <th>31281</th>\n",
       "      <td>Nicalis, Inc.</td>\n",
       "      <td>[Casual, Indie, Strategy]</td>\n",
       "      <td>NightSky</td>\n",
       "      <td>NightSky</td>\n",
       "      <td>http://store.steampowered.com/app/99700/NightSky/</td>\n",
       "      <td>2011-03-01</td>\n",
       "      <td>[Indie, Platformer, Casual, Puzzle, Physics, A...</td>\n",
       "      <td>NaN</td>\n",
       "      <td>http://steamcommunity.com/app/99700/reviews/?b...</td>\n",
       "      <td>[Single-player]</td>\n",
       "      <td>9.99</td>\n",
       "      <td>False</td>\n",
       "      <td>99700</td>\n",
       "      <td>Nicalis, Inc.</td>\n",
       "      <td>Very Positive</td>\n",
       "      <td>78</td>\n",
       "    </tr>\n",
       "    <tr>\n",
       "      <th>31220</th>\n",
       "      <td>Krystian Majewski</td>\n",
       "      <td>[Adventure, Indie, Casual]</td>\n",
       "      <td>Trauma</td>\n",
       "      <td>Trauma</td>\n",
       "      <td>http://store.steampowered.com/app/98100/Trauma/</td>\n",
       "      <td>2011-08-08</td>\n",
       "      <td>[Indie, Adventure, Casual, Point &amp; Click, Expe...</td>\n",
       "      <td>NaN</td>\n",
       "      <td>http://steamcommunity.com/app/98100/reviews/?b...</td>\n",
       "      <td>[Single-player]</td>\n",
       "      <td>6.99</td>\n",
       "      <td>False</td>\n",
       "      <td>98100</td>\n",
       "      <td>Krystian Majewski</td>\n",
       "      <td>Mostly Positive</td>\n",
       "      <td>62</td>\n",
       "    </tr>\n",
       "    <tr>\n",
       "      <th>659</th>\n",
       "      <td>Peter Brinson and Kurosh ValaNejad</td>\n",
       "      <td>[Indie]</td>\n",
       "      <td>The Cat and the Coup</td>\n",
       "      <td>The Cat and the Coup</td>\n",
       "      <td>http://store.steampowered.com/app/95700/The_Ca...</td>\n",
       "      <td>2011-06-15</td>\n",
       "      <td>[Indie, Historical, Free to Play, Puzzle, Shor...</td>\n",
       "      <td>NaN</td>\n",
       "      <td>http://steamcommunity.com/app/95700/reviews/?b...</td>\n",
       "      <td>[Single-player]</td>\n",
       "      <td>Free</td>\n",
       "      <td>False</td>\n",
       "      <td>95700</td>\n",
       "      <td>Peter Brinson and Kurosh ValaNejad</td>\n",
       "      <td>Very Positive</td>\n",
       "      <td>NaN</td>\n",
       "    </tr>\n",
       "    <tr>\n",
       "      <th>685</th>\n",
       "      <td>Telltale Games</td>\n",
       "      <td>[Adventure, Casual]</td>\n",
       "      <td>Puzzle Agent 2</td>\n",
       "      <td>Puzzle Agent 2</td>\n",
       "      <td>http://store.steampowered.com/app/94590/Puzzle...</td>\n",
       "      <td>2011-06-30</td>\n",
       "      <td>[Puzzle, Adventure, Point &amp; Click, Casual, Det...</td>\n",
       "      <td>NaN</td>\n",
       "      <td>http://steamcommunity.com/app/94590/reviews/?b...</td>\n",
       "      <td>[Single-player, Steam Achievements]</td>\n",
       "      <td>9.99</td>\n",
       "      <td>False</td>\n",
       "      <td>94590</td>\n",
       "      <td>Telltale Games</td>\n",
       "      <td>Very Positive</td>\n",
       "      <td>63</td>\n",
       "    </tr>\n",
       "  </tbody>\n",
       "</table>\n",
       "</div>"
      ],
      "text/plain": [
       "                                publisher  \\\n",
       "720                           Three Rings   \n",
       "31281                       Nicalis, Inc.   \n",
       "31220                   Krystian Majewski   \n",
       "659    Peter Brinson and Kurosh ValaNejad   \n",
       "685                        Telltale Games   \n",
       "\n",
       "                                                  genres  \\\n",
       "720    [Adventure, Casual, Free to Play, Massively Mu...   \n",
       "31281                          [Casual, Indie, Strategy]   \n",
       "31220                         [Adventure, Indie, Casual]   \n",
       "659                                              [Indie]   \n",
       "685                                  [Adventure, Casual]   \n",
       "\n",
       "                   app_name                 title  \\\n",
       "720          Puzzle Pirates        Puzzle Pirates   \n",
       "31281              NightSky              NightSky   \n",
       "31220                Trauma                Trauma   \n",
       "659    The Cat and the Coup  The Cat and the Coup   \n",
       "685          Puzzle Agent 2        Puzzle Agent 2   \n",
       "\n",
       "                                                     url release_date  \\\n",
       "720    http://store.steampowered.com/app/99910/Puzzle...   2011-08-31   \n",
       "31281  http://store.steampowered.com/app/99700/NightSky/   2011-03-01   \n",
       "31220    http://store.steampowered.com/app/98100/Trauma/   2011-08-08   \n",
       "659    http://store.steampowered.com/app/95700/The_Ca...   2011-06-15   \n",
       "685    http://store.steampowered.com/app/94590/Puzzle...   2011-06-30   \n",
       "\n",
       "                                                    tags  discount_price  \\\n",
       "720    [Free to Play, Massively Multiplayer, Puzzle, ...             NaN   \n",
       "31281  [Indie, Platformer, Casual, Puzzle, Physics, A...             NaN   \n",
       "31220  [Indie, Adventure, Casual, Point & Click, Expe...             NaN   \n",
       "659    [Indie, Historical, Free to Play, Puzzle, Shor...             NaN   \n",
       "685    [Puzzle, Adventure, Point & Click, Casual, Det...             NaN   \n",
       "\n",
       "                                             reviews_url  \\\n",
       "720    http://steamcommunity.com/app/99910/reviews/?b...   \n",
       "31281  http://steamcommunity.com/app/99700/reviews/?b...   \n",
       "31220  http://steamcommunity.com/app/98100/reviews/?b...   \n",
       "659    http://steamcommunity.com/app/95700/reviews/?b...   \n",
       "685    http://steamcommunity.com/app/94590/reviews/?b...   \n",
       "\n",
       "                                                   specs         price  \\\n",
       "720    [Single-player, Multi-player, MMO, Co-op, Stea...  Free to Play   \n",
       "31281                                    [Single-player]          9.99   \n",
       "31220                                    [Single-player]          6.99   \n",
       "659                                      [Single-player]          Free   \n",
       "685                  [Single-player, Steam Achievements]          9.99   \n",
       "\n",
       "       early_access     id                           developer  \\\n",
       "720           False  99910                         Three Rings   \n",
       "31281         False  99700                       Nicalis, Inc.   \n",
       "31220         False  98100                   Krystian Majewski   \n",
       "659           False  95700  Peter Brinson and Kurosh ValaNejad   \n",
       "685           False  94590                      Telltale Games   \n",
       "\n",
       "             sentiment metascore  \n",
       "720      Very Positive       NaN  \n",
       "31281    Very Positive        78  \n",
       "31220  Mostly Positive        62  \n",
       "659      Very Positive       NaN  \n",
       "685      Very Positive        63  "
      ]
     },
     "execution_count": 13,
     "metadata": {},
     "output_type": "execute_result"
    }
   ],
   "source": [
    "min_hs = data_reviews['hours'].min()\n",
    "product_id_min_hs = data_reviews[data_reviews['hours'] == min_hs]\n",
    "product_id_min_hs['product_id'].sort_values(ascending = False)\n",
    "data_games[data_games['id'].isin(product_id_min_hs['product_id'])].sort_values(by = 'id', ascending = False).head()"
   ]
  },
  {
   "cell_type": "markdown",
   "metadata": {},
   "source": [
    "### Como primer paso, tengo que definir qué variable usar para estimar un rating, voy a probar hacer el rating primero con la variable hours y luego con la variable sentiments y aplicar el mismo modelo en ambos casos, me voy a quedar con el rating que mejor resultado dé y luego aplicaré varios a ese conjunto de datos\n",
    "\n",
    "\n",
    "#### Armo un Dataframe con los datos que me interesan: Usuario, hours, el id del juego y el título del juego"
   ]
  },
  {
   "cell_type": "code",
   "execution_count": 14,
   "metadata": {
    "scrolled": true
   },
   "outputs": [
    {
     "name": "stdout",
     "output_type": "stream",
     "text": [
      "(779951, 4) (779307, 3)\n"
     ]
    },
    {
     "data": {
      "text/html": [
       "<div>\n",
       "<style scoped>\n",
       "    .dataframe tbody tr th:only-of-type {\n",
       "        vertical-align: middle;\n",
       "    }\n",
       "\n",
       "    .dataframe tbody tr th {\n",
       "        vertical-align: top;\n",
       "    }\n",
       "\n",
       "    .dataframe thead th {\n",
       "        text-align: right;\n",
       "    }\n",
       "</style>\n",
       "<table border=\"1\" class=\"dataframe\">\n",
       "  <thead>\n",
       "    <tr style=\"text-align: right;\">\n",
       "      <th></th>\n",
       "      <th>username</th>\n",
       "      <th>rating_hs</th>\n",
       "      <th>product_id</th>\n",
       "      <th>title</th>\n",
       "    </tr>\n",
       "  </thead>\n",
       "  <tbody>\n",
       "    <tr>\n",
       "      <th>0</th>\n",
       "      <td>Chaos Syren</td>\n",
       "      <td>0.1</td>\n",
       "      <td>725280</td>\n",
       "      <td>Psi Project</td>\n",
       "    </tr>\n",
       "    <tr>\n",
       "      <th>1</th>\n",
       "      <td>freakfantom</td>\n",
       "      <td>0.1</td>\n",
       "      <td>725280</td>\n",
       "      <td>Psi Project</td>\n",
       "    </tr>\n",
       "    <tr>\n",
       "      <th>2</th>\n",
       "      <td>Ariman1</td>\n",
       "      <td>13.2</td>\n",
       "      <td>328100</td>\n",
       "      <td>Gunspell - Steam Edition</td>\n",
       "    </tr>\n",
       "    <tr>\n",
       "      <th>3</th>\n",
       "      <td>dll3z</td>\n",
       "      <td>0.4</td>\n",
       "      <td>328100</td>\n",
       "      <td>Gunspell - Steam Edition</td>\n",
       "    </tr>\n",
       "    <tr>\n",
       "      <th>4</th>\n",
       "      <td>Nyazicat</td>\n",
       "      <td>2.2</td>\n",
       "      <td>328100</td>\n",
       "      <td>Gunspell - Steam Edition</td>\n",
       "    </tr>\n",
       "  </tbody>\n",
       "</table>\n",
       "</div>"
      ],
      "text/plain": [
       "      username  rating_hs product_id                     title\n",
       "0  Chaos Syren        0.1     725280               Psi Project\n",
       "1  freakfantom        0.1     725280               Psi Project\n",
       "2      Ariman1       13.2     328100  Gunspell - Steam Edition\n",
       "3        dll3z        0.4     328100  Gunspell - Steam Edition\n",
       "4     Nyazicat        2.2     328100  Gunspell - Steam Edition"
      ]
     },
     "execution_count": 14,
     "metadata": {},
     "output_type": "execute_result"
    }
   ],
   "source": [
    "data1 = data_reviews.copy()\n",
    "data1.drop(['products', 'page_order', 'date', 'text', 'early_access', 'page', 'user_id', 'compensation', 'found_funny'], axis=1, inplace = True)\n",
    "data1.rename({'hours': 'rating_hs'}, axis = 'columns', inplace = True)\n",
    "data = data1.merge(data_games, how='inner', left_on='product_id', right_on='id')\n",
    "data.drop(['publisher', 'genres', 'app_name', 'url', 'release_date', 'tags', 'discount_price', 'reviews_url', 'specs', 'price', 'early_access', 'id', 'developer', 'sentiment', 'metascore'], axis = 1, inplace = True)\n",
    "print(data.shape, data1.shape)\n",
    "data.head()"
   ]
  },
  {
   "cell_type": "code",
   "execution_count": 15,
   "metadata": {
    "scrolled": false
   },
   "outputs": [
    {
     "data": {
      "text/html": [
       "<div>\n",
       "<style scoped>\n",
       "    .dataframe tbody tr th:only-of-type {\n",
       "        vertical-align: middle;\n",
       "    }\n",
       "\n",
       "    .dataframe tbody tr th {\n",
       "        vertical-align: top;\n",
       "    }\n",
       "\n",
       "    .dataframe thead th {\n",
       "        text-align: right;\n",
       "    }\n",
       "</style>\n",
       "<table border=\"1\" class=\"dataframe\">\n",
       "  <thead>\n",
       "    <tr style=\"text-align: right;\">\n",
       "      <th></th>\n",
       "      <th>username</th>\n",
       "      <th>rating_hs</th>\n",
       "      <th>product_id</th>\n",
       "      <th>title</th>\n",
       "    </tr>\n",
       "  </thead>\n",
       "  <tbody>\n",
       "    <tr>\n",
       "      <th>758744</th>\n",
       "      <td>Cross</td>\n",
       "      <td>4.5</td>\n",
       "      <td>449940</td>\n",
       "      <td>! That Bastard Is Trying To Steal Our Gold !</td>\n",
       "    </tr>\n",
       "    <tr>\n",
       "      <th>758745</th>\n",
       "      <td>Sande</td>\n",
       "      <td>4.8</td>\n",
       "      <td>449940</td>\n",
       "      <td>! That Bastard Is Trying To Steal Our Gold !</td>\n",
       "    </tr>\n",
       "    <tr>\n",
       "      <th>758746</th>\n",
       "      <td>ɥɔɐoɹʞɔoɔpɐǝp</td>\n",
       "      <td>5.2</td>\n",
       "      <td>449940</td>\n",
       "      <td>! That Bastard Is Trying To Steal Our Gold !</td>\n",
       "    </tr>\n",
       "    <tr>\n",
       "      <th>758747</th>\n",
       "      <td>The Baddest Rat</td>\n",
       "      <td>2.0</td>\n",
       "      <td>449940</td>\n",
       "      <td>! That Bastard Is Trying To Steal Our Gold !</td>\n",
       "    </tr>\n",
       "    <tr>\n",
       "      <th>758748</th>\n",
       "      <td>Bronut</td>\n",
       "      <td>0.3</td>\n",
       "      <td>449940</td>\n",
       "      <td>! That Bastard Is Trying To Steal Our Gold !</td>\n",
       "    </tr>\n",
       "    <tr>\n",
       "      <th>758749</th>\n",
       "      <td>¡× JTriggeR ×! #YoloChallenge</td>\n",
       "      <td>5.0</td>\n",
       "      <td>449940</td>\n",
       "      <td>! That Bastard Is Trying To Steal Our Gold !</td>\n",
       "    </tr>\n",
       "  </tbody>\n",
       "</table>\n",
       "</div>"
      ],
      "text/plain": [
       "                             username  rating_hs product_id  \\\n",
       "758744                          Cross        4.5     449940   \n",
       "758745                          Sande        4.8     449940   \n",
       "758746                  ɥɔɐoɹʞɔoɔpɐǝp        5.2     449940   \n",
       "758747                The Baddest Rat        2.0     449940   \n",
       "758748                         Bronut        0.3     449940   \n",
       "758749  ¡× JTriggeR ×! #YoloChallenge        5.0     449940   \n",
       "\n",
       "                                               title  \n",
       "758744  ! That Bastard Is Trying To Steal Our Gold !  \n",
       "758745  ! That Bastard Is Trying To Steal Our Gold !  \n",
       "758746  ! That Bastard Is Trying To Steal Our Gold !  \n",
       "758747  ! That Bastard Is Trying To Steal Our Gold !  \n",
       "758748  ! That Bastard Is Trying To Steal Our Gold !  \n",
       "758749  ! That Bastard Is Trying To Steal Our Gold !  "
      ]
     },
     "execution_count": 15,
     "metadata": {},
     "output_type": "execute_result"
    }
   ],
   "source": [
    "data[data['title'] == '! That Bastard Is Trying To Steal Our Gold !']"
   ]
  },
  {
   "cell_type": "code",
   "execution_count": 16,
   "metadata": {},
   "outputs": [
    {
     "data": {
      "image/png": "[encoded data removed]",
      "text/plain": [
       "<Figure size 1080x576 with 1 Axes>"
      ]
     },
     "metadata": {},
     "output_type": "display_data"
    }
   ],
   "source": [
    "x = data.groupby('title')['rating_hs'].sum().values\n",
    "x = np.sort(x)[::-1]\n",
    "y = data['title'].unique()\n",
    "plt.figure(figsize = (15,8))\n",
    "sns.barplot(x = x[0:10], y = y[0:10], orient = 'h')\n",
    "plt.title('Los 10 juegos que más se jugaron', fontsize = 20)\n",
    "plt.show()"
   ]
  },
  {
   "cell_type": "markdown",
   "metadata": {},
   "source": [
    "#### Armo el rating a partir de la variable 'hours'"
   ]
  },
  {
   "cell_type": "code",
   "execution_count": 17,
   "metadata": {},
   "outputs": [
    {
     "data": {
      "text/plain": [
       "count    776670.000000\n",
       "mean        111.843832\n",
       "std         390.145376\n",
       "min           0.000000\n",
       "25%           4.000000\n",
       "50%          15.300000\n",
       "75%          59.600000\n",
       "max       28164.000000\n",
       "Name: hours, dtype: float64"
      ]
     },
     "execution_count": 17,
     "metadata": {},
     "output_type": "execute_result"
    }
   ],
   "source": [
    "data_reviews['hours'].describe()"
   ]
  },
  {
   "cell_type": "markdown",
   "metadata": {},
   "source": [
    "#### Armo los rangos teniendo en cuenta los cuartiles, desde 0 al cuartil 50 o media, el rating es 1, entre el cuartil 50 y el 75 es 2, y a partir del 75 hacia el maximo es 3"
   ]
  },
  {
   "cell_type": "code",
   "execution_count": 19,
   "metadata": {},
   "outputs": [],
   "source": [
    "bins = [0, 15.3, 60, 28165]\n",
    "labels = [1,2,3]\n",
    "data['rating_hs'] = pd.cut(data_reviews['hours'], bins, labels = labels)"
   ]
  },
  {
   "cell_type": "code",
   "execution_count": 20,
   "metadata": {},
   "outputs": [
    {
     "data": {
      "text/plain": [
       "rating_hs\n",
       "1    388142\n",
       "2    194727\n",
       "3    193342\n",
       "dtype: int64"
      ]
     },
     "execution_count": 20,
     "metadata": {},
     "output_type": "execute_result"
    }
   ],
   "source": [
    "data.groupby(['rating_hs']).size()"
   ]
  },
  {
   "cell_type": "code",
   "execution_count": 21,
   "metadata": {
    "scrolled": true
   },
   "outputs": [
    {
     "name": "stdout",
     "output_type": "stream",
     "text": [
      "La cantidad de juegos que han sido jugados como mínimo 3 veces son:  8511\n"
     ]
    }
   ],
   "source": [
    "#Voy a filtrar por aquellos juegos que hayan sido clasificados como mínimo 3 veces\n",
    "games_3 = data.groupby(['product_id']).size()\n",
    "games_3 = games_3[games_3 >= 3]\n",
    "print('La cantidad de juegos que han sido jugados como mínimo 3 veces son: ',len(games_3))"
   ]
  },
  {
   "cell_type": "code",
   "execution_count": 22,
   "metadata": {},
   "outputs": [],
   "source": [
    "#Me quedo con los juegos que han sido jugados minimo 3 veces\n",
    "data = data[data['product_id'].isin(games_3.index)]"
   ]
  },
  {
   "cell_type": "code",
   "execution_count": 23,
   "metadata": {
    "scrolled": true
   },
   "outputs": [],
   "source": [
    "#Elimino los vares Nan \n",
    "data.isna().sum()\n",
    "data.dropna(inplace = True)"
   ]
  },
  {
   "cell_type": "code",
   "execution_count": 24,
   "metadata": {},
   "outputs": [
    {
     "data": {
      "image/png": "[encoded data removed]",
      "text/plain": [
       "<Figure size 1008x576 with 1 Axes>"
      ]
     },
     "metadata": {},
     "output_type": "display_data"
    }
   ],
   "source": [
    "plt.figure(figsize = (14,8))\n",
    "data.groupby(['rating_hs']).size().plot(kind = 'bar')\n",
    "plt. xlabel('Rating', fontsize=15) \n",
    "plt. ylabel('Usuarios', fontsize=15)\n",
    "plt.title('Rating según variable hours', fontsize = 15)\n",
    "plt.show()"
   ]
  },
  {
   "cell_type": "markdown",
   "metadata": {},
   "source": [
    "#### Juegos con mayor rating"
   ]
  },
  {
   "cell_type": "code",
   "execution_count": 25,
   "metadata": {
    "scrolled": false
   },
   "outputs": [
    {
     "data": {
      "text/html": [
       "<div>\n",
       "<style scoped>\n",
       "    .dataframe tbody tr th:only-of-type {\n",
       "        vertical-align: middle;\n",
       "    }\n",
       "\n",
       "    .dataframe tbody tr th {\n",
       "        vertical-align: top;\n",
       "    }\n",
       "\n",
       "    .dataframe thead th {\n",
       "        text-align: right;\n",
       "    }\n",
       "</style>\n",
       "<table border=\"1\" class=\"dataframe\">\n",
       "  <thead>\n",
       "    <tr style=\"text-align: right;\">\n",
       "      <th></th>\n",
       "      <th>username</th>\n",
       "      <th>rating_hs</th>\n",
       "      <th>product_id</th>\n",
       "      <th>title</th>\n",
       "    </tr>\n",
       "  </thead>\n",
       "  <tbody>\n",
       "    <tr>\n",
       "      <th>389534</th>\n",
       "      <td>[HSOWA]NINJA</td>\n",
       "      <td>3</td>\n",
       "      <td>51100</td>\n",
       "      <td>Tactical Intervention</td>\n",
       "    </tr>\n",
       "    <tr>\n",
       "      <th>376613</th>\n",
       "      <td>mosekvist™</td>\n",
       "      <td>3</td>\n",
       "      <td>440</td>\n",
       "      <td>Team Fortress 2</td>\n",
       "    </tr>\n",
       "    <tr>\n",
       "      <th>376611</th>\n",
       "      <td>SHOBOBINVANJIN</td>\n",
       "      <td>3</td>\n",
       "      <td>440</td>\n",
       "      <td>Team Fortress 2</td>\n",
       "    </tr>\n",
       "    <tr>\n",
       "      <th>376609</th>\n",
       "      <td>([GG])</td>\n",
       "      <td>3</td>\n",
       "      <td>440</td>\n",
       "      <td>Team Fortress 2</td>\n",
       "    </tr>\n",
       "    <tr>\n",
       "      <th>376608</th>\n",
       "      <td>bittomcat115</td>\n",
       "      <td>3</td>\n",
       "      <td>440</td>\n",
       "      <td>Team Fortress 2</td>\n",
       "    </tr>\n",
       "    <tr>\n",
       "      <th>376607</th>\n",
       "      <td>Soft</td>\n",
       "      <td>3</td>\n",
       "      <td>440</td>\n",
       "      <td>Team Fortress 2</td>\n",
       "    </tr>\n",
       "    <tr>\n",
       "      <th>376605</th>\n",
       "      <td>Theflyingpizza</td>\n",
       "      <td>3</td>\n",
       "      <td>440</td>\n",
       "      <td>Team Fortress 2</td>\n",
       "    </tr>\n",
       "    <tr>\n",
       "      <th>376604</th>\n",
       "      <td>Master of Puppets</td>\n",
       "      <td>3</td>\n",
       "      <td>440</td>\n",
       "      <td>Team Fortress 2</td>\n",
       "    </tr>\n",
       "    <tr>\n",
       "      <th>376603</th>\n",
       "      <td>mosekvist™</td>\n",
       "      <td>3</td>\n",
       "      <td>440</td>\n",
       "      <td>Team Fortress 2</td>\n",
       "    </tr>\n",
       "    <tr>\n",
       "      <th>376602</th>\n",
       "      <td>Kanna-San</td>\n",
       "      <td>3</td>\n",
       "      <td>440</td>\n",
       "      <td>Team Fortress 2</td>\n",
       "    </tr>\n",
       "  </tbody>\n",
       "</table>\n",
       "</div>"
      ],
      "text/plain": [
       "                 username rating_hs product_id                  title\n",
       "389534       [HSOWA]NINJA         3      51100  Tactical Intervention\n",
       "376613         mosekvist™         3        440        Team Fortress 2\n",
       "376611     SHOBOBINVANJIN         3        440        Team Fortress 2\n",
       "376609             ([GG])         3        440        Team Fortress 2\n",
       "376608       bittomcat115         3        440        Team Fortress 2\n",
       "376607               Soft         3        440        Team Fortress 2\n",
       "376605     Theflyingpizza         3        440        Team Fortress 2\n",
       "376604  Master of Puppets         3        440        Team Fortress 2\n",
       "376603         mosekvist™         3        440        Team Fortress 2\n",
       "376602          Kanna-San         3        440        Team Fortress 2"
      ]
     },
     "execution_count": 25,
     "metadata": {},
     "output_type": "execute_result"
    }
   ],
   "source": [
    "data.sort_values(by = 'rating_hs', ascending = False).head(10)"
   ]
  },
  {
   "cell_type": "markdown",
   "metadata": {},
   "source": [
    "#### Creo el modelo para tener una métrica sobre cómo predice tomando como rating la  variable hours"
   ]
  },
  {
   "cell_type": "code",
   "execution_count": 26,
   "metadata": {},
   "outputs": [],
   "source": [
    "from surprise import Dataset\n",
    "from surprise import Reader\n",
    "from surprise.model_selection import train_test_split\n",
    "from surprise import SVD\n",
    "from surprise import accuracy"
   ]
  },
  {
   "cell_type": "code",
   "execution_count": 27,
   "metadata": {},
   "outputs": [],
   "source": [
    "reader = Reader()"
   ]
  },
  {
   "cell_type": "code",
   "execution_count": 28,
   "metadata": {
    "scrolled": true
   },
   "outputs": [],
   "source": [
    "data = Dataset.load_from_df(data[['username', 'product_id', 'rating_hs']], reader)"
   ]
  },
  {
   "cell_type": "markdown",
   "metadata": {},
   "source": [
    "#### Separo los datos en un set de entrenamiento y un set de testeo"
   ]
  },
  {
   "cell_type": "code",
   "execution_count": 29,
   "metadata": {},
   "outputs": [],
   "source": [
    "trainset, testset = train_test_split(data, test_size=.25)"
   ]
  },
  {
   "cell_type": "markdown",
   "metadata": {},
   "source": [
    "#### Entrenamiento del modelo"
   ]
  },
  {
   "cell_type": "code",
   "execution_count": 30,
   "metadata": {},
   "outputs": [],
   "source": [
    "algo = SVD()"
   ]
  },
  {
   "cell_type": "code",
   "execution_count": 31,
   "metadata": {
    "scrolled": true
   },
   "outputs": [
    {
     "data": {
      "text/plain": [
       "<surprise.prediction_algorithms.matrix_factorization.SVD at 0x7f889496d850>"
      ]
     },
     "execution_count": 31,
     "metadata": {},
     "output_type": "execute_result"
    }
   ],
   "source": [
    "algo.fit(trainset) #Con esta linea el modelo algo esta descomponiendo la matriz U y V "
   ]
  },
  {
   "cell_type": "code",
   "execution_count": 32,
   "metadata": {},
   "outputs": [],
   "source": [
    "predictions = algo.test(testset)"
   ]
  },
  {
   "cell_type": "code",
   "execution_count": 33,
   "metadata": {},
   "outputs": [
    {
     "data": {
      "text/plain": [
       "Prediction(uid='Doge', iid='376210', r_ui=1.0, est=1.919630012154258, details={'was_impossible': False})"
      ]
     },
     "execution_count": 33,
     "metadata": {},
     "output_type": "execute_result"
    }
   ],
   "source": [
    "predictions[10]"
   ]
  },
  {
   "cell_type": "markdown",
   "metadata": {},
   "source": [
    "##### En el resultado de predicción, uid representa la identificación del usuario, iid representa la identificación de la película, r_ui representa la calificación real de la película del usuario y est representa la calificación predicha por el algoritmo SVD."
   ]
  },
  {
   "cell_type": "markdown",
   "metadata": {},
   "source": [
    "#### Como métrica de error elijo el RMSE: Root mean squared error, el cual se calcula como la raiz cuadrada de la sumatoria de la diferencia al cuadrado entre el valor predicho y el real, dividido el numero de muestras.\n",
    "#### RMSE refleja el grado de desviación entre los ratings que el modelo predice y los reales, esta métrica penaliza las grandes desviaciones ya que las eleva al cuadrado antes de sumarlas. Por lo que un valor de RMSE bajo corrresponde a una exactitud más alta de la predicción"
   ]
  },
  {
   "cell_type": "code",
   "execution_count": 34,
   "metadata": {
    "scrolled": true
   },
   "outputs": [
    {
     "name": "stdout",
     "output_type": "stream",
     "text": [
      "RMSE: 0.7911\n"
     ]
    }
   ],
   "source": [
    "RMSE_hs = accuracy.rmse(predictions)"
   ]
  },
  {
   "cell_type": "markdown",
   "metadata": {},
   "source": [
    "#### El erorr RMSE de 0,79 indica que el modelo se está equivocando en 0,79 unidades de rating, es decir que si el rating real es 1 puede que prediga un valor de 1,79 es decir casi 2 o 0,21 es decir casi 0."
   ]
  },
  {
   "cell_type": "markdown",
   "metadata": {},
   "source": [
    "#### Ahora voy a probar armando el rating pero a partir de la variable sentiment"
   ]
  },
  {
   "cell_type": "code",
   "execution_count": 35,
   "metadata": {},
   "outputs": [
    {
     "name": "stdout",
     "output_type": "stream",
     "text": [
      "(779951, 4) (779307, 2)\n"
     ]
    },
    {
     "data": {
      "text/html": [
       "<div>\n",
       "<style scoped>\n",
       "    .dataframe tbody tr th:only-of-type {\n",
       "        vertical-align: middle;\n",
       "    }\n",
       "\n",
       "    .dataframe tbody tr th {\n",
       "        vertical-align: top;\n",
       "    }\n",
       "\n",
       "    .dataframe thead th {\n",
       "        text-align: right;\n",
       "    }\n",
       "</style>\n",
       "<table border=\"1\" class=\"dataframe\">\n",
       "  <thead>\n",
       "    <tr style=\"text-align: right;\">\n",
       "      <th></th>\n",
       "      <th>username</th>\n",
       "      <th>product_id</th>\n",
       "      <th>title</th>\n",
       "      <th>sentiment</th>\n",
       "    </tr>\n",
       "  </thead>\n",
       "  <tbody>\n",
       "    <tr>\n",
       "      <th>0</th>\n",
       "      <td>Chaos Syren</td>\n",
       "      <td>725280</td>\n",
       "      <td>Psi Project</td>\n",
       "      <td>Positive</td>\n",
       "    </tr>\n",
       "    <tr>\n",
       "      <th>1</th>\n",
       "      <td>freakfantom</td>\n",
       "      <td>725280</td>\n",
       "      <td>Psi Project</td>\n",
       "      <td>Positive</td>\n",
       "    </tr>\n",
       "    <tr>\n",
       "      <th>2</th>\n",
       "      <td>Ariman1</td>\n",
       "      <td>328100</td>\n",
       "      <td>Gunspell - Steam Edition</td>\n",
       "      <td>Mixed</td>\n",
       "    </tr>\n",
       "    <tr>\n",
       "      <th>3</th>\n",
       "      <td>dll3z</td>\n",
       "      <td>328100</td>\n",
       "      <td>Gunspell - Steam Edition</td>\n",
       "      <td>Mixed</td>\n",
       "    </tr>\n",
       "    <tr>\n",
       "      <th>4</th>\n",
       "      <td>Nyazicat</td>\n",
       "      <td>328100</td>\n",
       "      <td>Gunspell - Steam Edition</td>\n",
       "      <td>Mixed</td>\n",
       "    </tr>\n",
       "  </tbody>\n",
       "</table>\n",
       "</div>"
      ],
      "text/plain": [
       "      username product_id                     title sentiment\n",
       "0  Chaos Syren     725280               Psi Project  Positive\n",
       "1  freakfantom     725280               Psi Project  Positive\n",
       "2      Ariman1     328100  Gunspell - Steam Edition     Mixed\n",
       "3        dll3z     328100  Gunspell - Steam Edition     Mixed\n",
       "4     Nyazicat     328100  Gunspell - Steam Edition     Mixed"
      ]
     },
     "execution_count": 35,
     "metadata": {},
     "output_type": "execute_result"
    }
   ],
   "source": [
    "data_aux = data_reviews.copy()\n",
    "data_aux.drop(['products','hours', 'page_order', 'date', 'text', 'early_access', 'page', 'user_id', 'compensation', 'found_funny'], axis=1, inplace = True)\n",
    "data2 = data_aux.merge(data_games, how='inner', left_on='product_id', right_on='id')\n",
    "data2.drop(['publisher', 'genres', 'app_name', 'url', 'release_date', 'tags', 'discount_price', 'reviews_url', 'specs', 'price', 'early_access', 'id', 'developer', 'metascore'], axis = 1, inplace = True)\n",
    "print(data2.shape, data_aux.shape)\n",
    "data2.head()"
   ]
  },
  {
   "cell_type": "code",
   "execution_count": 36,
   "metadata": {},
   "outputs": [],
   "source": [
    "#Me quedo con los juegos que han sido jugados minimo 3 veces\n",
    "data2 = data2[data2['product_id'].isin(games_3.index)]"
   ]
  },
  {
   "cell_type": "code",
   "execution_count": 37,
   "metadata": {},
   "outputs": [
    {
     "data": {
      "text/plain": [
       "username      0\n",
       "product_id    0\n",
       "title         0\n",
       "sentiment     0\n",
       "dtype: int64"
      ]
     },
     "execution_count": 37,
     "metadata": {},
     "output_type": "execute_result"
    }
   ],
   "source": [
    "data2.dropna(inplace = True)\n",
    "data2.isna().sum()"
   ]
  },
  {
   "cell_type": "markdown",
   "metadata": {},
   "source": [
    "#### Usando la libreria TextBlob convierto la variable sentiments a valores numericos entre -1 y 1 que corresponden a si ese sentimiento fue positivo o negativo con respecto al juego"
   ]
  },
  {
   "cell_type": "code",
   "execution_count": 38,
   "metadata": {},
   "outputs": [],
   "source": [
    "from textblob import TextBlob\n",
    "\n",
    "def sentimientos(x):\n",
    "    return TextBlob(x).sentiment.polarity\n",
    "\n",
    "\n",
    "data2['polarity'] = data2['sentiment'].apply(sentimientos)"
   ]
  },
  {
   "cell_type": "code",
   "execution_count": 39,
   "metadata": {},
   "outputs": [
    {
     "data": {
      "text/plain": [
       "array(['Mixed', 'Positive', 'Overwhelmingly Positive', 'Very Positive',\n",
       "       'Mostly Positive', 'Mostly Negative', 'Very Negative',\n",
       "       '3 user reviews', '4 user reviews', '9 user reviews',\n",
       "       '5 user reviews', '2 user reviews', 'Negative', '6 user reviews',\n",
       "       '8 user reviews', '7 user reviews', '1 user reviews',\n",
       "       'Overwhelmingly Negative'], dtype=object)"
      ]
     },
     "execution_count": 39,
     "metadata": {},
     "output_type": "execute_result"
    }
   ],
   "source": [
    "data2.sentiment.unique()"
   ]
  },
  {
   "cell_type": "code",
   "execution_count": 40,
   "metadata": {
    "scrolled": true
   },
   "outputs": [
    {
     "data": {
      "text/plain": [
       "array([ 0.        ,  0.22727273,  0.29545455, -0.3       , -0.39      ])"
      ]
     },
     "execution_count": 40,
     "metadata": {},
     "output_type": "execute_result"
    }
   ],
   "source": [
    "data2.polarity.unique()"
   ]
  },
  {
   "cell_type": "code",
   "execution_count": 41,
   "metadata": {},
   "outputs": [],
   "source": [
    "data2['rating_sent'] = data2['polarity']"
   ]
  },
  {
   "cell_type": "markdown",
   "metadata": {},
   "source": [
    "#### Teniendo en cuenta los valores que me devolvió la función sentimientos, convierto el rating según el comentario del usuario en un valor numérico"
   ]
  },
  {
   "cell_type": "code",
   "execution_count": 42,
   "metadata": {},
   "outputs": [],
   "source": [
    "data2.loc[data2['polarity'] < -0.2, 'rating_sent'] = 1\n",
    "data2.loc[(data2['polarity'] > -0.2) & (data2['polarity'] < 0.2), 'rating_sent'] = 2\n",
    "data2.loc[data2['polarity'] > 0.2, 'rating_sent'] = 3"
   ]
  },
  {
   "cell_type": "code",
   "execution_count": 43,
   "metadata": {},
   "outputs": [
    {
     "data": {
      "text/html": [
       "<div>\n",
       "<style scoped>\n",
       "    .dataframe tbody tr th:only-of-type {\n",
       "        vertical-align: middle;\n",
       "    }\n",
       "\n",
       "    .dataframe tbody tr th {\n",
       "        vertical-align: top;\n",
       "    }\n",
       "\n",
       "    .dataframe thead th {\n",
       "        text-align: right;\n",
       "    }\n",
       "</style>\n",
       "<table border=\"1\" class=\"dataframe\">\n",
       "  <thead>\n",
       "    <tr style=\"text-align: right;\">\n",
       "      <th></th>\n",
       "      <th>username</th>\n",
       "      <th>product_id</th>\n",
       "      <th>title</th>\n",
       "      <th>sentiment</th>\n",
       "      <th>polarity</th>\n",
       "      <th>rating_sent</th>\n",
       "    </tr>\n",
       "  </thead>\n",
       "  <tbody>\n",
       "    <tr>\n",
       "      <th>2</th>\n",
       "      <td>Ariman1</td>\n",
       "      <td>328100</td>\n",
       "      <td>Gunspell - Steam Edition</td>\n",
       "      <td>Mixed</td>\n",
       "      <td>0.0</td>\n",
       "      <td>2.0</td>\n",
       "    </tr>\n",
       "    <tr>\n",
       "      <th>3</th>\n",
       "      <td>dll3z</td>\n",
       "      <td>328100</td>\n",
       "      <td>Gunspell - Steam Edition</td>\n",
       "      <td>Mixed</td>\n",
       "      <td>0.0</td>\n",
       "      <td>2.0</td>\n",
       "    </tr>\n",
       "    <tr>\n",
       "      <th>4</th>\n",
       "      <td>Nyazicat</td>\n",
       "      <td>328100</td>\n",
       "      <td>Gunspell - Steam Edition</td>\n",
       "      <td>Mixed</td>\n",
       "      <td>0.0</td>\n",
       "      <td>2.0</td>\n",
       "    </tr>\n",
       "    <tr>\n",
       "      <th>5</th>\n",
       "      <td>novocain</td>\n",
       "      <td>328100</td>\n",
       "      <td>Gunspell - Steam Edition</td>\n",
       "      <td>Mixed</td>\n",
       "      <td>0.0</td>\n",
       "      <td>2.0</td>\n",
       "    </tr>\n",
       "    <tr>\n",
       "      <th>6</th>\n",
       "      <td>raixel</td>\n",
       "      <td>328100</td>\n",
       "      <td>Gunspell - Steam Edition</td>\n",
       "      <td>Mixed</td>\n",
       "      <td>0.0</td>\n",
       "      <td>2.0</td>\n",
       "    </tr>\n",
       "  </tbody>\n",
       "</table>\n",
       "</div>"
      ],
      "text/plain": [
       "   username product_id                     title sentiment  polarity  \\\n",
       "2   Ariman1     328100  Gunspell - Steam Edition     Mixed       0.0   \n",
       "3     dll3z     328100  Gunspell - Steam Edition     Mixed       0.0   \n",
       "4  Nyazicat     328100  Gunspell - Steam Edition     Mixed       0.0   \n",
       "5  novocain     328100  Gunspell - Steam Edition     Mixed       0.0   \n",
       "6    raixel     328100  Gunspell - Steam Edition     Mixed       0.0   \n",
       "\n",
       "   rating_sent  \n",
       "2          2.0  \n",
       "3          2.0  \n",
       "4          2.0  \n",
       "5          2.0  \n",
       "6          2.0  "
      ]
     },
     "execution_count": 43,
     "metadata": {},
     "output_type": "execute_result"
    }
   ],
   "source": [
    "data2.head()"
   ]
  },
  {
   "cell_type": "code",
   "execution_count": 44,
   "metadata": {},
   "outputs": [
    {
     "data": {
      "text/plain": [
       "rating_sent\n",
       "1.0      9312\n",
       "2.0    120535\n",
       "3.0    644422\n",
       "dtype: int64"
      ]
     },
     "execution_count": 44,
     "metadata": {},
     "output_type": "execute_result"
    }
   ],
   "source": [
    "data2.groupby(['rating_sent']).size()"
   ]
  },
  {
   "cell_type": "code",
   "execution_count": 45,
   "metadata": {},
   "outputs": [
    {
     "data": {
      "image/png": "[encoded data removed]",
      "text/plain": [
       "<Figure size 864x576 with 1 Axes>"
      ]
     },
     "metadata": {},
     "output_type": "display_data"
    }
   ],
   "source": [
    "plt.figure(figsize = (12,8))\n",
    "data2.groupby(['rating_sent']).size().plot(kind = 'bar')\n",
    "plt. xlabel('Rating', fontsize=15) \n",
    "plt. ylabel('Usuarios', fontsize=15) \n",
    "plt.title('Rating según variable sentiment', fontsize = 15)\n",
    "plt.show()"
   ]
  },
  {
   "cell_type": "markdown",
   "metadata": {},
   "source": [
    "#### Creo el modelo para compararlo con el modelo anterior con el rating creado a partir de la variable hours"
   ]
  },
  {
   "cell_type": "code",
   "execution_count": 46,
   "metadata": {},
   "outputs": [],
   "source": [
    "data2_aux = Dataset.load_from_df(data2[['username', 'product_id', 'rating_sent']], reader)\n",
    "trainset, testset = train_test_split(data2_aux, test_size=.25)"
   ]
  },
  {
   "cell_type": "code",
   "execution_count": 47,
   "metadata": {},
   "outputs": [
    {
     "data": {
      "text/plain": [
       "<surprise.prediction_algorithms.matrix_factorization.SVD at 0x7f880991fe80>"
      ]
     },
     "execution_count": 47,
     "metadata": {},
     "output_type": "execute_result"
    }
   ],
   "source": [
    "##Entrenamiento del modelo\n",
    "algo = SVD()\n",
    "algo.fit(trainset) #Con esta linea el modelo algo esta descomponiendo la matriz U y V "
   ]
  },
  {
   "cell_type": "code",
   "execution_count": 48,
   "metadata": {},
   "outputs": [
    {
     "data": {
      "text/plain": [
       "193568"
      ]
     },
     "execution_count": 48,
     "metadata": {},
     "output_type": "execute_result"
    }
   ],
   "source": [
    "predictions_sent = algo.test(testset)\n",
    "\n",
    "len(predictions_sent)"
   ]
  },
  {
   "cell_type": "code",
   "execution_count": 49,
   "metadata": {},
   "outputs": [
    {
     "name": "stdout",
     "output_type": "stream",
     "text": [
      "RMSE: 0.1072\n"
     ]
    }
   ],
   "source": [
    "RMSE_svd = accuracy.rmse(predictions_sent)"
   ]
  },
  {
   "cell_type": "markdown",
   "metadata": {},
   "source": [
    "#### El erorr RMSE de 0.1 indica que el modelo se está equivocando en 0.1 unidades de rating, es decir este modelo predice de forma mucho más precisa que el anterior, si el rating real es 1, el modelo puede predecir 1,1 o 0,9, es decir 1 en ambos casos"
   ]
  },
  {
   "cell_type": "markdown",
   "metadata": {},
   "source": [
    "### Voy a quedarme con el rating basado en los sentimientos, ya que es con el que menor error obtuve: 0,108 vs 0,79 usando las horas jugadas"
   ]
  },
  {
   "cell_type": "markdown",
   "metadata": {},
   "source": [
    "#### 1. Como primer modelo planteo un modelo benchmark, que consistirá en el modelo Normal Estimator de la librería Surprise, este algoritmo predice una clasificación aleatoria basada la suposición de que la distribución del conjutno  es normal. "
   ]
  },
  {
   "cell_type": "code",
   "execution_count": 50,
   "metadata": {},
   "outputs": [],
   "source": [
    "from surprise import NormalPredictor"
   ]
  },
  {
   "cell_type": "code",
   "execution_count": 51,
   "metadata": {},
   "outputs": [
    {
     "name": "stdout",
     "output_type": "stream",
     "text": [
      "RMSE: 0.5836\n"
     ]
    }
   ],
   "source": [
    "algo = NormalPredictor()\n",
    "algo.fit(trainset) \n",
    "predictions_normal = algo.test(testset)\n",
    "predictions_normal[10] \n",
    "RMSE_normal = accuracy.rmse(predictions_normal)"
   ]
  },
  {
   "cell_type": "markdown",
   "metadata": {},
   "source": [
    "#### 2. Modelo SVD ++, es  una extensión del modelo SVD pero tiene en cuenta los rating implícitos "
   ]
  },
  {
   "cell_type": "code",
   "execution_count": 52,
   "metadata": {},
   "outputs": [],
   "source": [
    "from surprise import SVDpp"
   ]
  },
  {
   "cell_type": "code",
   "execution_count": 53,
   "metadata": {},
   "outputs": [
    {
     "name": "stdout",
     "output_type": "stream",
     "text": [
      "RMSE: 0.1024\n"
     ]
    }
   ],
   "source": [
    "algo = SVDpp()\n",
    "algo.fit(trainset) \n",
    "predictions_svdpp = algo.test(testset)\n",
    "predictions_svdpp[10] \n",
    "RMSE_svdpp = accuracy.rmse(predictions_svdpp)"
   ]
  },
  {
   "cell_type": "markdown",
   "metadata": {},
   "source": [
    "#### 3. Modelo Non negative Matrix Factorization (NMF)"
   ]
  },
  {
   "cell_type": "code",
   "execution_count": 54,
   "metadata": {},
   "outputs": [],
   "source": [
    "from surprise import NMF"
   ]
  },
  {
   "cell_type": "code",
   "execution_count": 55,
   "metadata": {},
   "outputs": [
    {
     "name": "stdout",
     "output_type": "stream",
     "text": [
      "RMSE: 0.3645\n"
     ]
    }
   ],
   "source": [
    "algo = NMF()\n",
    "algo.fit(trainset)  \n",
    "predictions_nmf = algo.test(testset)\n",
    "predictions_nmf[10]\n",
    "RMSE_nmf = accuracy.rmse(predictions_nmf)"
   ]
  },
  {
   "cell_type": "markdown",
   "metadata": {},
   "source": [
    "#### 4. Modelo Co-Clustering "
   ]
  },
  {
   "cell_type": "code",
   "execution_count": 56,
   "metadata": {},
   "outputs": [],
   "source": [
    "from surprise import CoClustering"
   ]
  },
  {
   "cell_type": "code",
   "execution_count": 57,
   "metadata": {},
   "outputs": [
    {
     "name": "stderr",
     "output_type": "stream",
     "text": [
      "<ipython-input-57-e23f4047a7be>:2: DeprecationWarning: `np.int` is a deprecated alias for the builtin `int`. To silence this warning, use `int` by itself. Doing this will not modify any behavior and is safe. When replacing `np.int`, you may wish to use e.g. `np.int64` or `np.int32` to specify the precision. If you wish to review your current use, check the release note link for additional information.\n",
      "Deprecated in NumPy 1.20; for more details and guidance: https://numpy.org/devdocs/release/1.20.0-notes.html#deprecations\n",
      "  algo.fit(trainset)\n"
     ]
    },
    {
     "name": "stdout",
     "output_type": "stream",
     "text": [
      "RMSE: 0.3721\n"
     ]
    }
   ],
   "source": [
    "algo = CoClustering()\n",
    "algo.fit(trainset)  \n",
    "predictions_coclustering = algo.test(testset)\n",
    "predictions_coclustering[10]\n",
    "RMSE_coclustering = accuracy.rmse(predictions_coclustering)"
   ]
  },
  {
   "cell_type": "markdown",
   "metadata": {},
   "source": [
    "#### 5. Modelo SlopeOne"
   ]
  },
  {
   "cell_type": "code",
   "execution_count": 58,
   "metadata": {},
   "outputs": [],
   "source": [
    "from surprise import SlopeOne"
   ]
  },
  {
   "cell_type": "code",
   "execution_count": 59,
   "metadata": {},
   "outputs": [
    {
     "name": "stderr",
     "output_type": "stream",
     "text": [
      "<ipython-input-59-b4ad25957ccb>:2: DeprecationWarning: `np.int` is a deprecated alias for the builtin `int`. To silence this warning, use `int` by itself. Doing this will not modify any behavior and is safe. When replacing `np.int`, you may wish to use e.g. `np.int64` or `np.int32` to specify the precision. If you wish to review your current use, check the release note link for additional information.\n",
      "Deprecated in NumPy 1.20; for more details and guidance: https://numpy.org/devdocs/release/1.20.0-notes.html#deprecations\n",
      "  algo.fit(trainset)\n"
     ]
    },
    {
     "name": "stdout",
     "output_type": "stream",
     "text": [
      "RMSE: 0.3983\n"
     ]
    }
   ],
   "source": [
    "algo = SlopeOne()\n",
    "algo.fit(trainset)  \n",
    "predictions_slopeone = algo.test(testset)\n",
    "predictions_slopeone[10]\n",
    "RMSE_slopeone = accuracy.rmse(predictions_slopeone)"
   ]
  },
  {
   "cell_type": "markdown",
   "metadata": {},
   "source": [
    "#### 6. Modelo BaselineOlny  usando el método  Alternating Least Squares (ALS)"
   ]
  },
  {
   "cell_type": "code",
   "execution_count": 60,
   "metadata": {},
   "outputs": [],
   "source": [
    "from surprise import BaselineOnly"
   ]
  },
  {
   "cell_type": "code",
   "execution_count": 61,
   "metadata": {},
   "outputs": [
    {
     "name": "stdout",
     "output_type": "stream",
     "text": [
      "Estimating biases using als...\n",
      "RMSE: 0.1131\n"
     ]
    }
   ],
   "source": [
    "algo = BaselineOnly(bsl_options = {'method': 'als'})\n",
    "algo.fit(trainset)  \n",
    "predictions_als = algo.test(testset)\n",
    "predictions_als[10]\n",
    "RMSE_als = accuracy.rmse(predictions_als)"
   ]
  },
  {
   "cell_type": "markdown",
   "metadata": {},
   "source": [
    "### Comparo los modelos con el error obtenido en cada uno de ellos "
   ]
  },
  {
   "cell_type": "code",
   "execution_count": 62,
   "metadata": {},
   "outputs": [],
   "source": [
    "errores = [RMSE_normal, RMSE_svd, RMSE_svdpp, RMSE_nmf, RMSE_coclustering, RMSE_slopeone, RMSE_als]\n",
    "labels = ['Benchmark', 'SVD', 'SVD ++', 'NMF', 'Co - Clustering', 'Slope One', 'ALS']"
   ]
  },
  {
   "cell_type": "code",
   "execution_count": 63,
   "metadata": {},
   "outputs": [
    {
     "data": {
      "image/png": "[encoded data removed]",
      "text/plain": [
       "<Figure size 864x576 with 1 Axes>"
      ]
     },
     "metadata": {},
     "output_type": "display_data"
    }
   ],
   "source": [
    "plt.figure(figsize = (12,8))\n",
    "plt.scatter(x = labels, y = errores, s = 50, color = 'red')\n",
    "plt.title('Error RMSE segun modelo utilizado', fontsize = 15)\n",
    "plt.show()"
   ]
  },
  {
   "cell_type": "markdown",
   "metadata": {},
   "source": [
    "####  Como primera conclusión vemos que todos los modelos superan al modelo benchmark. \n",
    "#### El menor error lo obtuve con el modelo SVD ++, por lo cual voy a optimizar los hiperparametros de ese modelo"
   ]
  },
  {
   "cell_type": "code",
   "execution_count": 64,
   "metadata": {},
   "outputs": [],
   "source": [
    "algo = SVDpp()\n",
    "algo.fit(trainset) \n",
    "predictions_svdpp = algo.test(testset)"
   ]
  },
  {
   "cell_type": "code",
   "execution_count": 65,
   "metadata": {},
   "outputs": [],
   "source": [
    "from surprise.model_selection import GridSearchCV\n",
    "factores = [10, 20, 30, 50, 100, 200, 500]\n",
    "\n",
    "param_grid = {'n_factors': factores}\n",
    "gs4 = GridSearchCV(SVD, param_grid, measures=['rmse'], cv=3, n_jobs = -1)\n",
    "gs4.fit(data2_aux)"
   ]
  },
  {
   "cell_type": "code",
   "execution_count": 66,
   "metadata": {},
   "outputs": [
    {
     "name": "stdout",
     "output_type": "stream",
     "text": [
      "0.10266098006395578\n",
      "{'n_factors': 10}\n"
     ]
    }
   ],
   "source": [
    "RMSE_svdpp_grid = gs4.best_score['rmse']\n",
    "print(RMSE_svdpp_grid)\n",
    "print(gs4.best_params['rmse'])"
   ]
  },
  {
   "cell_type": "markdown",
   "metadata": {},
   "source": [
    "#### Utilizando el modelo SVD++ habiendo optimizado el hiperparámetro n_factors con GridSearch, obtengo un error en la predicción de los ratings de 0,1 unidades, lo cual es un error muy bajo, por lo que puedo afirmar que es un buen modelo para recomendar juegos a usuarios basado en los gustos de usuarios similares."
   ]
  },
  {
   "cell_type": "code",
   "execution_count": 67,
   "metadata": {},
   "outputs": [
    {
     "data": {
      "text/plain": [
       "Prediction(uid='StratoSphereTV', iid='326410', r_ui=3.0, est=2.977575567096879, details={'was_impossible': False})"
      ]
     },
     "execution_count": 67,
     "metadata": {},
     "output_type": "execute_result"
    }
   ],
   "source": [
    "predictions_svdpp[0]"
   ]
  },
  {
   "cell_type": "code",
   "execution_count": 68,
   "metadata": {},
   "outputs": [
    {
     "data": {
      "text/html": [
       "<div>\n",
       "<style scoped>\n",
       "    .dataframe tbody tr th:only-of-type {\n",
       "        vertical-align: middle;\n",
       "    }\n",
       "\n",
       "    .dataframe tbody tr th {\n",
       "        vertical-align: top;\n",
       "    }\n",
       "\n",
       "    .dataframe thead th {\n",
       "        text-align: right;\n",
       "    }\n",
       "</style>\n",
       "<table border=\"1\" class=\"dataframe\">\n",
       "  <thead>\n",
       "    <tr style=\"text-align: right;\">\n",
       "      <th></th>\n",
       "      <th>username</th>\n",
       "      <th>product_id</th>\n",
       "      <th>title</th>\n",
       "      <th>sentiment</th>\n",
       "      <th>polarity</th>\n",
       "      <th>rating_sent</th>\n",
       "    </tr>\n",
       "  </thead>\n",
       "  <tbody>\n",
       "    <tr>\n",
       "      <th>723228</th>\n",
       "      <td>StratoSphereTV</td>\n",
       "      <td>393420</td>\n",
       "      <td>Hurtworld</td>\n",
       "      <td>Mostly Positive</td>\n",
       "      <td>0.227273</td>\n",
       "      <td>3.0</td>\n",
       "    </tr>\n",
       "    <tr>\n",
       "      <th>773005</th>\n",
       "      <td>StratoSphereTV</td>\n",
       "      <td>326410</td>\n",
       "      <td>Windward</td>\n",
       "      <td>Very Positive</td>\n",
       "      <td>0.295455</td>\n",
       "      <td>3.0</td>\n",
       "    </tr>\n",
       "  </tbody>\n",
       "</table>\n",
       "</div>"
      ],
      "text/plain": [
       "              username product_id      title        sentiment  polarity  \\\n",
       "723228  StratoSphereTV     393420  Hurtworld  Mostly Positive  0.227273   \n",
       "773005  StratoSphereTV     326410   Windward    Very Positive  0.295455   \n",
       "\n",
       "        rating_sent  \n",
       "723228          3.0  \n",
       "773005          3.0  "
      ]
     },
     "execution_count": 68,
     "metadata": {},
     "output_type": "execute_result"
    }
   ],
   "source": [
    "data2[data2['username'] == 'StratoSphereTV']"
   ]
  },
  {
   "cell_type": "markdown",
   "metadata": {},
   "source": [
    "#### Vemos que el valor real del rating del usuario 'StratoSphereTV' al juego con id '326410' que corresponde al titulo 'Windward' es 3, y el que predijo el modelo es 2,977"
   ]
  },
  {
   "cell_type": "markdown",
   "metadata": {},
   "source": [
    "#### Para darle una utilidad al modelo de recomendación, creo una función que recibe nombre de usuario y la cantidad de recomendaciones que quiere recibir,  y devuelve una tabla con la cantidad de recomendaciones solicitadas "
   ]
  },
  {
   "cell_type": "code",
   "execution_count": 69,
   "metadata": {},
   "outputs": [],
   "source": [
    "def recomendaciones(usuario, N):\n",
    "    \n",
    "    #Estos son los juegos que jugó\n",
    "    usuario_jugados = data2[data2['username'] == usuario].copy()\n",
    "        \n",
    "    #Armo el dataframe que devolverá la función y elimino los juegos que el usuario ya jugó\n",
    "    recomendaciones_usuario = data2.drop(['username', 'sentiment', 'polarity', 'rating_sent'], axis = 1).copy()\n",
    "    recomendaciones_usuario['product_id'][~recomendaciones_usuario['product_id'].isin(usuario_jugados['product_id'])]\n",
    "    recomendaciones_usuario.reset_index(drop = True, inplace = True)\n",
    "    \n",
    "    #Estimaciones del modelo\n",
    "    recomendaciones_usuario['Estimate_Score'] = recomendaciones_usuario['product_id'].apply(lambda x: algo.predict(usuario, x).est)\n",
    "    recomendaciones_usuario = recomendaciones_usuario.sort_values('Estimate_Score', ascending=False)\n",
    "    recomendaciones_usuario.drop_duplicates(inplace = True)\n",
    "    recomendaciones_usuario.reset_index(drop = True, inplace = True)\n",
    "    \n",
    "    return recomendaciones_usuario.head(N)"
   ]
  },
  {
   "cell_type": "code",
   "execution_count": 70,
   "metadata": {},
   "outputs": [
    {
     "data": {
      "text/html": [
       "<div>\n",
       "<style scoped>\n",
       "    .dataframe tbody tr th:only-of-type {\n",
       "        vertical-align: middle;\n",
       "    }\n",
       "\n",
       "    .dataframe tbody tr th {\n",
       "        vertical-align: top;\n",
       "    }\n",
       "\n",
       "    .dataframe thead th {\n",
       "        text-align: right;\n",
       "    }\n",
       "</style>\n",
       "<table border=\"1\" class=\"dataframe\">\n",
       "  <thead>\n",
       "    <tr style=\"text-align: right;\">\n",
       "      <th></th>\n",
       "      <th>product_id</th>\n",
       "      <th>title</th>\n",
       "      <th>Estimate_Score</th>\n",
       "    </tr>\n",
       "  </thead>\n",
       "  <tbody>\n",
       "    <tr>\n",
       "      <th>0</th>\n",
       "      <td>2290</td>\n",
       "      <td>Final DOOM</td>\n",
       "      <td>2.993356</td>\n",
       "    </tr>\n",
       "    <tr>\n",
       "      <th>1</th>\n",
       "      <td>443580</td>\n",
       "      <td>Antenna</td>\n",
       "      <td>2.991823</td>\n",
       "    </tr>\n",
       "    <tr>\n",
       "      <th>2</th>\n",
       "      <td>330580</td>\n",
       "      <td>Shark Attack Deathmatch 2</td>\n",
       "      <td>2.990471</td>\n",
       "    </tr>\n",
       "    <tr>\n",
       "      <th>3</th>\n",
       "      <td>299660</td>\n",
       "      <td>6180 the moon</td>\n",
       "      <td>2.990266</td>\n",
       "    </tr>\n",
       "  </tbody>\n",
       "</table>\n",
       "</div>"
      ],
      "text/plain": [
       "  product_id                      title  Estimate_Score\n",
       "0       2290                 Final DOOM        2.993356\n",
       "1     443580                    Antenna        2.991823\n",
       "2     330580  Shark Attack Deathmatch 2        2.990471\n",
       "3     299660              6180 the moon        2.990266"
      ]
     },
     "execution_count": 70,
     "metadata": {},
     "output_type": "execute_result"
    }
   ],
   "source": [
    "recomendaciones('raixel', 4)"
   ]
  },
  {
   "cell_type": "markdown",
   "metadata": {},
   "source": [
    "### PARTE C - Próximos pasos"
   ]
  },
  {
   "cell_type": "markdown",
   "metadata": {},
   "source": [
    "#### Como otras mejoras a este modelos podría plantear otra forma de calcular los ratings, por ejemplo haciendo una combinación entre las dos variables que probé: 'hours' y 'sentiments', de forma que, a mayor cantidad de horas y un valor de sentiment mayor a 0, definirlo como un rating alto, y en caso contrario rating bajo.\n",
    "#### Otra posibilidad es utilizar la variable text, la cual esta formada por comentarios que dejan los usuarios sobre los juegos, para utilizar esta variable sería necesario aplicar un procesamiento de lenguaje natural, de forma de obtener un valor numérico a partir de las 'emociones' que puedan extraerse de esos comentarios"
   ]
  },
  {
   "cell_type": "markdown",
   "metadata": {},
   "source": [
    "#### Un modelo alternativo para aplicar aprovechando los demás datos del dataset es generar un sistema de recomendación pero basado en contenido, es decir recomendar juegos a un usuario teniendo en cuenta las características de los juegos que ya jugó y le gustaron, por ejemplo en este caso tenemos información sobre el desarrollador del juego, el género y especificaciones sobre la cantidad de jugadores.  Si a un usuario le juega muchas horas o pone críticas positivas a los juegos que son de Aventuras y que son Multi-Jugadores, le recomendaría más juegos de aventura y más juegos que sean multi-jugador, también podría recomendarle juegos de ese desarrollador. "
   ]
  },
  {
   "cell_type": "markdown",
   "metadata": {},
   "source": [
    "#### Para realizar un sistema de recomendación basado en contenido utilizaría TF-IDF Vectorizer de la librería sklearn. TF-IDF es la abrieviatura de Term Frequency Inverse Document Frequency, y se utiliza para transformar texto en una representación numérica significativa, es una forma de 'pesar' la importancia de cada palabra clave. \n",
    "#### TF * IDF es el 'peso de cada término. TF corresponde a Term Frequency, es decir el número de veces que la palabra aparece en un documento, e IDF corresponde a Inverse Document Frequency, y es la medida de cuán significante es ese término en el texto completo. \n",
    "#### La función TF-IDF Vectorizer de scikit-learn calcula el valor TF * IDF de cada palabra. \n",
    "#### Una vez que tenemos este valor, medimos qué término es similar a cuál otro, de forma de poder recomendar a un usuario un ítem parecido a los que les gustan. Una forma de medir esta similitud es con la similitud del coseno. Se calcula el coseno del ángulo que forma el vector formado por el perfil del usuario y el vector del ítem en particular que estamos analizando si recomendarle o no. Cuando menor es el coseno  más similares son los vectores, por lo tanto los ítems. "
   ]
  },
  {
   "cell_type": "code",
   "execution_count": null,
   "metadata": {},
   "outputs": [],
   "source": []
  }
 ],
 "metadata": {
  "colab": {
   "collapsed_sections": [],
   "name": "DS_Proyecto_03_SR.ipynb",
   "provenance": []
  },
  "kernelspec": {
   "display_name": "Python 3",
   "language": "python",
   "name": "python3"
  },
  "language_info": {
   "codemirror_mode": {
    "name": "ipython",
    "version": 3
   },
   "file_extension": ".py",
   "mimetype": "text/x-python",
   "name": "python",
   "nbconvert_exporter": "python",
   "pygments_lexer": "ipython3",
   "version": "3.8.5"
  }
 },
 "nbformat": 4,
 "nbformat_minor": 1
}
